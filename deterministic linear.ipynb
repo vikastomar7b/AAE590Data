
Editing
[ ]
import numpy as npfrom sklearn.linear_model import LinearRegression

[ ]
x = np.array([5, 15, 25, 35, 45, 55]).reshape((-1, 1))y = np.array([5, 20, 14, 32, 22, 38])

[ ]
x

 array([ 5, 20, 14, 32, 22, 38])
[ ]
y

 array([ 5, 20, 14, 32, 22, 38])
[ ]
model = LinearRegression()

[ ]
model.fit(x, y)

 LinearRegression()
[ ]
model = LinearRegression().fit(x, y)

[ ]
r_sq = model.score(x, y)

[ ]
print(f"coefficient of determination: {r_sq}")

 coefficient of determination: 0.7158756137479542
[ ]
 print(f"intercept: {model.intercept_}")
 intercept: 5.633333333333329
[ ]
 print(f"slope: {model.coef_}")
 slope: [0.54]
[ ]
 new_model = LinearRegression().fit(x, y.reshape((-1, 1)))
print(f"intercept: {new_model.intercept_}")
print(f"slope: {new_model.coef_}")
 intercept: [5.63333333]
slope: [[0.54]]
[ ]
 x_new = np.arange(5).reshape((-1, 1))
x_new
 array([[0],
       [1],
       [2],
       [3],
       [4]])
[ ]
 y_new = model.predict(x_new)
y_new
 array([5.63333333, 6.17333333, 6.71333333, 7.25333333, 7.79333333])
Double-click (or enter) to edit
